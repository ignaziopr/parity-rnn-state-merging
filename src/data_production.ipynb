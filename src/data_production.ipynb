{
 "cells": [
  {
   "cell_type": "markdown",
   "id": "636cd47e",
   "metadata": {},
   "source": [
    "# Data Production"
   ]
  },
  {
   "cell_type": "markdown",
   "id": "2dcb3e45",
   "metadata": {},
   "source": [
    "In this notebook we will be generating the training set and the validation set. Each are a list of 1s or 0s, while the label is either a 1 (indicating odd) or 0 (even), representing the parity of the sequence. The entire point of this research paper is for models to learn algorithms that extrapolate outside of the training domain, thus the training data (as seen in the paper) will be all possible sequences from length 1 to 10 of 0s and 1s and the validation data will consist of 100 sequences of lengths 25, 50, 100, 1000, 2500, and 10000."
   ]
  },
  {
   "cell_type": "markdown",
   "id": "d4f9be15",
   "metadata": {},
   "source": [
    "### 1. Imports"
   ]
  },
  {
   "cell_type": "code",
   "execution_count": null,
   "id": "ae061d1b",
   "metadata": {},
   "outputs": [],
   "source": [
    "import numpy as np\n",
    "import os"
   ]
  },
  {
   "cell_type": "markdown",
   "id": "40c64cef",
   "metadata": {},
   "source": [
    "### 2. Generate Training Data\n"
   ]
  },
  {
   "cell_type": "code",
   "execution_count": null,
   "id": "72d68c73",
   "metadata": {},
   "outputs": [],
   "source": [
    "# Generate all binary sequences of length 1 to 10 and their final parity labels\n",
    "\n",
    "def generate_training_data(L_train):\n",
    "    sequences = []\n",
    "    labels = []\n",
    "    for length in range(1, L_train+1):\n",
    "        for i in range(2**length):\n",
    "            # binary representation of i, padded\n",
    "            bits = [(i >> j) & 1 for j in range(length-1, -1, -1)]\n",
    "            npbits = np.array(bits)\n",
    "            sequences.append(npbits)\n",
    "            parity = np.mod(np.sum(bits), 2)\n",
    "            labels.append(parity)\n",
    "    return np.array(sequences, dtype=object), np.array(labels, dtype=np.int64)\n"
   ]
  },
  {
   "cell_type": "code",
   "execution_count": null,
   "id": "1e4eddbb",
   "metadata": {},
   "outputs": [],
   "source": [
    "L_train = 10\n",
    "train_X, train_Y = generate_training_data(L_train)\n",
    "\n",
    "for x,y in zip(train_X, train_Y):\n",
    "  print(x, y)"
   ]
  },
  {
   "cell_type": "code",
   "execution_count": null,
   "id": "e1c53152",
   "metadata": {},
   "outputs": [],
   "source": [
    "data_path = os.path.join('../data/training', 'train_data.npz')\n",
    "np.savez_compressed(data_path, X=train_X, Y=train_Y)\n",
    "print(f\"Saved training data to {data_path}\")"
   ]
  },
  {
   "cell_type": "markdown",
   "id": "02cf1a8e",
   "metadata": {},
   "source": [
    "### 3. Generate Validation Data\n"
   ]
  },
  {
   "cell_type": "code",
   "execution_count": null,
   "id": "1edf79f6",
   "metadata": {},
   "outputs": [],
   "source": [
    "# For each target length, generate num_val random sequences with parity labels.\n",
    "\n",
    "def generate_validation_data(L_validation, L_sequence):\n",
    "    sequences = []\n",
    "    labels = []\n",
    "    for _ in range(L_validation):\n",
    "        bits = []\n",
    "        for _ in range(L_sequence):\n",
    "            bit = np.random.choice([0, 1])\n",
    "            bits.append(bit)\n",
    "        npbits = np.array(bits)\n",
    "        sequences.append(npbits)\n",
    "        parity = np.mod(np.sum(bits), 2)\n",
    "        print(\"current seq: \", npbits, \"parity: \", parity)\n",
    "        labels.append(parity)\n",
    "    return np.array(sequences, dtype=object), np.array(labels, dtype=np.int64)"
   ]
  },
  {
   "cell_type": "code",
   "execution_count": null,
   "id": "c7254a0b",
   "metadata": {},
   "outputs": [],
   "source": [
    "np.random.seed(0)\n",
    "\n",
    "val_len = 100\n",
    "seq_len = [25, 50, 100, 250, 1000, 2500, 10000]\n",
    "validation_data = {seq_len[i]: generate_validation_data(val_len, seq_len[i]) for i in range(len(seq_len))}"
   ]
  },
  {
   "cell_type": "code",
   "execution_count": null,
   "id": "02fd7b58",
   "metadata": {},
   "outputs": [],
   "source": [
    "for vl, vals in validation_data.items():\n",
    "  data_path = os.path.join('../data/validation', f'val_data_{vl}.npz')\n",
    "  np.savez_compressed(data_path, X=vals[0], Y=vals[1])\n",
    "  print(f\"Saved training data to {data_path}\")"
   ]
  }
 ],
 "metadata": {
  "kernelspec": {
   "display_name": "base",
   "language": "python",
   "name": "python3"
  },
  "language_info": {
   "codemirror_mode": {
    "name": "ipython",
    "version": 3
   },
   "file_extension": ".py",
   "mimetype": "text/x-python",
   "name": "python",
   "nbconvert_exporter": "python",
   "pygments_lexer": "ipython3",
   "version": "3.12.7"
  }
 },
 "nbformat": 4,
 "nbformat_minor": 5
}
