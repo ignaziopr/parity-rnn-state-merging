{
 "cells": [
  {
   "cell_type": "markdown",
   "id": "11e190b6",
   "metadata": {},
   "source": [
    "## TODO"
   ]
  },
  {
   "cell_type": "code",
   "execution_count": 1,
   "id": "34c95868",
   "metadata": {},
   "outputs": [
    {
     "data": {
      "text/plain": [
       "<torch._C.Generator at 0x117ee2150>"
      ]
     },
     "execution_count": 1,
     "metadata": {},
     "output_type": "execute_result"
    }
   ],
   "source": [
    "import torch\n",
    "import torch.nn as nn\n",
    "import os, sys\n",
    "import numpy as np\n",
    "import torch.nn.functional as F\n",
    "\n",
    "# Add project root (one level up) to Python path \n",
    "project_root = os.path.abspath(os.path.join(os.getcwd(), '..'))\n",
    "if project_root not in sys.path:\n",
    "    sys.path.insert(0, project_root)\n",
    "\n",
    "from models.parity_rnn import ParityRNN\n",
    "from torch.nn.utils.rnn import pack_sequence, pad_packed_sequence\n",
    "\n",
    "torch.manual_seed(42)"
   ]
  },
  {
   "cell_type": "code",
   "execution_count": 2,
   "id": "4b7a5381",
   "metadata": {},
   "outputs": [],
   "source": [
    "# Hyperparameters\n",
    "hidden_size = 100       # number of hidden ReLU units\n",
    "input_size = 2          # one-hot binary input\n",
    "output_size = 2         # one-hot parity output\n",
    "learning_rate = 0.06    # SGD learning rate\n",
    "batch_size = 128        # training batch size\n",
    "num_epochs = 1000       # number of training epochs\n",
    "clip_norm = None        # no gradient clipping\n",
    "\n",
    "# Optimizer example\n",
    "device = torch.device('cuda' if torch.cuda.is_available() else 'cpu')\n",
    "model = ParityRNN(input_size, hidden_size, output_size)\n",
    "optimizer = torch.optim.SGD(model.parameters(), lr=learning_rate, momentum=0.0, weight_decay=0.0)\n",
    "criterion = nn.MSELoss()\n"
   ]
  },
  {
   "cell_type": "code",
   "execution_count": 3,
   "id": "9e4222f3",
   "metadata": {},
   "outputs": [],
   "source": [
    "# Load training data from .npz\n",
    "train_data = np.load('../data/training/train_data.npz', allow_pickle=True)\n",
    "train_seqs = train_data['X']\n",
    "train_labels = train_data['Y']\n",
    "train_losses = []\n",
    "\n",
    "val_data = np.load('../data/validation/val_data_50.npz', allow_pickle=True)\n",
    "val_seqs = val_data['X']\n",
    "val_labels = val_data['Y']\n",
    "val_losses = []"
   ]
  },
  {
   "cell_type": "markdown",
   "id": "7e101d7f",
   "metadata": {},
   "source": [
    "one-hot encodings"
   ]
  },
  {
   "cell_type": "code",
   "execution_count": 4,
   "id": "c6404298",
   "metadata": {},
   "outputs": [],
   "source": [
    "def one_hot_seq(seq):\n",
    "    tens = []\n",
    "    for bits in seq:\n",
    "        L = len(bits)\n",
    "        t = torch.zeros(L, input_size)\n",
    "        for i, b in enumerate(bits):\n",
    "            t[i, b] = 1.0\n",
    "        tens.append(t)\n",
    "    return tens"
   ]
  },
  {
   "cell_type": "code",
   "execution_count": 5,
   "id": "7fe559f5",
   "metadata": {},
   "outputs": [],
   "source": [
    "train_tensors = one_hot_seq(train_seqs)\n",
    "train_labels_tensor = torch.LongTensor(train_labels)\n",
    "\n",
    "val_tensors = one_hot_seq(val_seqs)\n",
    "val_labels_tensor = torch.LongTensor(val_labels)"
   ]
  },
  {
   "cell_type": "code",
   "execution_count": 6,
   "id": "c7ca249d",
   "metadata": {},
   "outputs": [],
   "source": [
    "def train_parity_rnn(n):\n",
    "  model.train()\n",
    "  total_train_loss = 0.0\n",
    "\n",
    "  perm = torch.randperm(n)\n",
    "  for i in range(0, n, batch_size):\n",
    "      idx = perm[i : i+batch_size]\n",
    "      batch_xs = [train_tensors[j].to(device) for j in idx.tolist()]\n",
    "      batch_labels = train_labels_tensor[idx].to(device)\n",
    "\n",
    "      packed_x = pack_sequence(batch_xs, enforce_sorted=False).to(device)\n",
    "\n",
    "      logits, _ = model(packed_x)\n",
    "        \n",
    "      target = torch.zeros_like(logits)\n",
    "      target[torch.arange(logits.size(0)), batch_labels] = 1.0\n",
    "\n",
    "      # MSE on final output only\n",
    "      loss = criterion(logits, target)\n",
    "\n",
    "      optimizer.zero_grad()\n",
    "      loss.backward()\n",
    "\n",
    "      clip_value = 0.5\n",
    "      torch.nn.utils.clip_grad_value_(model.parameters(), clip_value)\n",
    "\n",
    "      # Update weights\n",
    "      optimizer.step()\n",
    "\n",
    "      # loss.item() is already averaged over batch_size\n",
    "      total_train_loss += loss.item() * batch_labels.size(0)\n",
    "\n",
    "  return total_train_loss"
   ]
  },
  {
   "cell_type": "code",
   "execution_count": 7,
   "id": "4717c50f",
   "metadata": {},
   "outputs": [],
   "source": [
    "def validate_model(n):\n",
    "    model.eval()\n",
    "    total_val_loss = 0.0\n",
    "    correct = 0\n",
    "    \n",
    "    with torch.no_grad():        \n",
    "        for i in range(0, len(val_seqs), batch_size):\n",
    "            end_idx = min(i + batch_size, len(val_seqs))\n",
    "            batch_xs = [val_tensors[j].to(device) for j in range(i, end_idx)]\n",
    "            batch_labels = val_labels_tensor[i:end_idx].to(device)\n",
    "            \n",
    "            packed_x = pack_sequence(batch_xs, enforce_sorted=False).to(device)\n",
    "            logits, _ = model(packed_x)\n",
    "            \n",
    "            target = torch.zeros_like(logits)\n",
    "            target[torch.arange(logits.size(0)), batch_labels] = 1.0\n",
    "            \n",
    "            loss = criterion(logits, target)\n",
    "            total_val_loss += loss.item() * batch_labels.size(0)\n",
    "            \n",
    "            # Calculate accuracy\n",
    "            predictions = torch.argmax(logits, dim=1)\n",
    "            correct += (predictions == batch_labels).sum().item()\n",
    "    \n",
    "    return total_val_loss, correct"
   ]
  },
  {
   "cell_type": "code",
   "execution_count": 8,
   "id": "e1cc13c2",
   "metadata": {},
   "outputs": [
    {
     "name": "stdout",
     "output_type": "stream",
     "text": [
      "Epoch   10 | Train Loss: 0.2509 | Val Loss: 0.2503 | Val Acc: 0.490\n",
      "Epoch   20 | Train Loss: 0.2511 | Val Loss: 0.2503 | Val Acc: 0.500\n",
      "Epoch   30 | Train Loss: 0.2508 | Val Loss: 0.2501 | Val Acc: 0.500\n",
      "Epoch   40 | Train Loss: 0.2505 | Val Loss: 0.2503 | Val Acc: 0.480\n",
      "Epoch   50 | Train Loss: 0.2505 | Val Loss: 0.2501 | Val Acc: 0.510\n",
      "Epoch   60 | Train Loss: 0.2504 | Val Loss: 0.2500 | Val Acc: 0.500\n",
      "Epoch   70 | Train Loss: 0.2504 | Val Loss: 0.2502 | Val Acc: 0.500\n",
      "Epoch   80 | Train Loss: 0.2506 | Val Loss: 0.2501 | Val Acc: 0.490\n",
      "Epoch   90 | Train Loss: 0.2504 | Val Loss: 0.2502 | Val Acc: 0.500\n",
      "Epoch  100 | Train Loss: 0.2504 | Val Loss: 0.2507 | Val Acc: 0.490\n",
      "Epoch  110 | Train Loss: 0.2506 | Val Loss: 0.2502 | Val Acc: 0.490\n",
      "Epoch  120 | Train Loss: 0.2505 | Val Loss: 0.2500 | Val Acc: 0.510\n",
      "Epoch  130 | Train Loss: 0.2503 | Val Loss: 0.2503 | Val Acc: 0.470\n",
      "Epoch  140 | Train Loss: 0.2502 | Val Loss: 0.2504 | Val Acc: 0.490\n",
      "Epoch  150 | Train Loss: 0.2504 | Val Loss: 0.2500 | Val Acc: 0.510\n",
      "Epoch  160 | Train Loss: 0.2503 | Val Loss: 0.2501 | Val Acc: 0.480\n",
      "Epoch  170 | Train Loss: 0.2504 | Val Loss: 0.2501 | Val Acc: 0.470\n",
      "Epoch  180 | Train Loss: 0.2507 | Val Loss: 0.2502 | Val Acc: 0.450\n",
      "Epoch  190 | Train Loss: 0.2503 | Val Loss: 0.2500 | Val Acc: 0.510\n",
      "Epoch  200 | Train Loss: 0.2505 | Val Loss: 0.2501 | Val Acc: 0.440\n",
      "Epoch  210 | Train Loss: 0.2504 | Val Loss: 0.2500 | Val Acc: 0.510\n",
      "Epoch  220 | Train Loss: 0.2502 | Val Loss: 0.2503 | Val Acc: 0.510\n",
      "Epoch  230 | Train Loss: 0.2501 | Val Loss: 0.2504 | Val Acc: 0.490\n",
      "Epoch  240 | Train Loss: 0.2501 | Val Loss: 0.2506 | Val Acc: 0.490\n",
      "Epoch  250 | Train Loss: 0.2504 | Val Loss: 0.2501 | Val Acc: 0.470\n",
      "Epoch  260 | Train Loss: 0.2502 | Val Loss: 0.2503 | Val Acc: 0.510\n",
      "Epoch  270 | Train Loss: 0.2505 | Val Loss: 0.2498 | Val Acc: 0.510\n",
      "Epoch  280 | Train Loss: 0.2504 | Val Loss: 0.2502 | Val Acc: 0.500\n",
      "Epoch  290 | Train Loss: 0.2504 | Val Loss: 0.2501 | Val Acc: 0.430\n",
      "Epoch  300 | Train Loss: 0.2502 | Val Loss: 0.2500 | Val Acc: 0.470\n",
      "Epoch  310 | Train Loss: 0.2503 | Val Loss: 0.2500 | Val Acc: 0.510\n",
      "Epoch  320 | Train Loss: 0.2504 | Val Loss: 0.2499 | Val Acc: 0.520\n",
      "Epoch  330 | Train Loss: 0.2503 | Val Loss: 0.2501 | Val Acc: 0.450\n",
      "Epoch  340 | Train Loss: 0.2503 | Val Loss: 0.2501 | Val Acc: 0.470\n",
      "Epoch  350 | Train Loss: 0.2504 | Val Loss: 0.2503 | Val Acc: 0.510\n",
      "Epoch  360 | Train Loss: 0.2502 | Val Loss: 0.2503 | Val Acc: 0.490\n",
      "Epoch  370 | Train Loss: 0.2505 | Val Loss: 0.2499 | Val Acc: 0.510\n",
      "Epoch  380 | Train Loss: 0.2502 | Val Loss: 0.2503 | Val Acc: 0.480\n",
      "Epoch  390 | Train Loss: 0.2502 | Val Loss: 0.2502 | Val Acc: 0.470\n",
      "Epoch  400 | Train Loss: 0.2503 | Val Loss: 0.2500 | Val Acc: 0.510\n",
      "Epoch  410 | Train Loss: 0.2502 | Val Loss: 0.2504 | Val Acc: 0.460\n",
      "Epoch  420 | Train Loss: 0.2502 | Val Loss: 0.2502 | Val Acc: 0.470\n",
      "Epoch  430 | Train Loss: 0.2501 | Val Loss: 0.2506 | Val Acc: 0.490\n",
      "Epoch  440 | Train Loss: 0.2501 | Val Loss: 0.2503 | Val Acc: 0.470\n",
      "Epoch  450 | Train Loss: 0.2504 | Val Loss: 0.2502 | Val Acc: 0.500\n",
      "Epoch  460 | Train Loss: 0.2502 | Val Loss: 0.2504 | Val Acc: 0.470\n",
      "Epoch  470 | Train Loss: 0.2500 | Val Loss: 0.2502 | Val Acc: 0.510\n",
      "Epoch  480 | Train Loss: 0.2503 | Val Loss: 0.2502 | Val Acc: 0.540\n",
      "Epoch  490 | Train Loss: 0.2502 | Val Loss: 0.2503 | Val Acc: 0.460\n",
      "Epoch  500 | Train Loss: 0.2500 | Val Loss: 0.2503 | Val Acc: 0.460\n",
      "Epoch  510 | Train Loss: 0.2498 | Val Loss: 0.2500 | Val Acc: 0.510\n",
      "Epoch  520 | Train Loss: 0.2499 | Val Loss: 0.2508 | Val Acc: 0.490\n",
      "Epoch  530 | Train Loss: 0.2498 | Val Loss: 0.2502 | Val Acc: 0.500\n",
      "Epoch  540 | Train Loss: 0.2497 | Val Loss: 0.2500 | Val Acc: 0.530\n",
      "Epoch  550 | Train Loss: 0.2497 | Val Loss: 0.2511 | Val Acc: 0.490\n",
      "Epoch  560 | Train Loss: 0.2499 | Val Loss: 0.2505 | Val Acc: 0.480\n",
      "Epoch  570 | Train Loss: 0.2496 | Val Loss: 0.2501 | Val Acc: 0.500\n",
      "Epoch  580 | Train Loss: 0.2496 | Val Loss: 0.2500 | Val Acc: 0.540\n",
      "Epoch  590 | Train Loss: 0.2495 | Val Loss: 0.2498 | Val Acc: 0.560\n",
      "Epoch  600 | Train Loss: 0.2493 | Val Loss: 0.2500 | Val Acc: 0.550\n",
      "Epoch  610 | Train Loss: 0.2488 | Val Loss: 0.2513 | Val Acc: 0.490\n",
      "Epoch  620 | Train Loss: 0.2486 | Val Loss: 0.2503 | Val Acc: 0.480\n",
      "Epoch  630 | Train Loss: 0.2481 | Val Loss: 0.2501 | Val Acc: 0.510\n",
      "Epoch  640 | Train Loss: 0.2467 | Val Loss: 0.2505 | Val Acc: 0.490\n",
      "Epoch  650 | Train Loss: 0.2425 | Val Loss: 0.2513 | Val Acc: 0.450\n",
      "Epoch  660 | Train Loss: 0.2164 | Val Loss: 0.2506 | Val Acc: 0.530\n",
      "Epoch  670 | Train Loss: 0.0084 | Val Loss: 0.0059 | Val Acc: 1.000\n",
      "Epoch  680 | Train Loss: 0.0006 | Val Loss: 0.0005 | Val Acc: 1.000\n",
      "Epoch  690 | Train Loss: 0.0004 | Val Loss: 0.0003 | Val Acc: 1.000\n",
      "Epoch  700 | Train Loss: 0.0003 | Val Loss: 0.0002 | Val Acc: 1.000\n",
      "Epoch  710 | Train Loss: 0.0002 | Val Loss: 0.0002 | Val Acc: 1.000\n",
      "Epoch  720 | Train Loss: 0.0002 | Val Loss: 0.0001 | Val Acc: 1.000\n",
      "Epoch  730 | Train Loss: 0.0002 | Val Loss: 0.0001 | Val Acc: 1.000\n",
      "Epoch  740 | Train Loss: 0.0002 | Val Loss: 0.0001 | Val Acc: 1.000\n",
      "Epoch  750 | Train Loss: 0.0001 | Val Loss: 0.0001 | Val Acc: 1.000\n",
      "Epoch  760 | Train Loss: 0.0001 | Val Loss: 0.0001 | Val Acc: 1.000\n",
      "Epoch  770 | Train Loss: 0.0001 | Val Loss: 0.0001 | Val Acc: 1.000\n",
      "Epoch  780 | Train Loss: 0.0001 | Val Loss: 0.0001 | Val Acc: 1.000\n",
      "Epoch  790 | Train Loss: 0.0001 | Val Loss: 0.0001 | Val Acc: 1.000\n",
      "Epoch  800 | Train Loss: 0.0001 | Val Loss: 0.0001 | Val Acc: 1.000\n",
      "Epoch  810 | Train Loss: 0.0001 | Val Loss: 0.0001 | Val Acc: 1.000\n",
      "Epoch  820 | Train Loss: 0.0001 | Val Loss: 0.0001 | Val Acc: 1.000\n",
      "Epoch  830 | Train Loss: 0.0001 | Val Loss: 0.0001 | Val Acc: 1.000\n",
      "Epoch  840 | Train Loss: 0.0001 | Val Loss: 0.0001 | Val Acc: 1.000\n",
      "Epoch  850 | Train Loss: 0.0001 | Val Loss: 0.0000 | Val Acc: 1.000\n",
      "Epoch  860 | Train Loss: 0.0001 | Val Loss: 0.0000 | Val Acc: 1.000\n",
      "Epoch  870 | Train Loss: 0.0001 | Val Loss: 0.0000 | Val Acc: 1.000\n",
      "Epoch  880 | Train Loss: 0.0001 | Val Loss: 0.0000 | Val Acc: 1.000\n",
      "Epoch  890 | Train Loss: 0.0001 | Val Loss: 0.0000 | Val Acc: 1.000\n",
      "Epoch  900 | Train Loss: 0.0001 | Val Loss: 0.0000 | Val Acc: 1.000\n",
      "Epoch  910 | Train Loss: 0.0001 | Val Loss: 0.0000 | Val Acc: 1.000\n",
      "Epoch  920 | Train Loss: 0.0001 | Val Loss: 0.0000 | Val Acc: 1.000\n",
      "Epoch  930 | Train Loss: 0.0001 | Val Loss: 0.0000 | Val Acc: 1.000\n",
      "Epoch  940 | Train Loss: 0.0001 | Val Loss: 0.0000 | Val Acc: 1.000\n",
      "Epoch  950 | Train Loss: 0.0001 | Val Loss: 0.0000 | Val Acc: 1.000\n",
      "Epoch  960 | Train Loss: 0.0001 | Val Loss: 0.0000 | Val Acc: 1.000\n",
      "Epoch  970 | Train Loss: 0.0001 | Val Loss: 0.0000 | Val Acc: 1.000\n",
      "Epoch  980 | Train Loss: 0.0001 | Val Loss: 0.0000 | Val Acc: 1.000\n",
      "Epoch  990 | Train Loss: 0.0001 | Val Loss: 0.0000 | Val Acc: 1.000\n",
      "Epoch 1000 | Train Loss: 0.0000 | Val Loss: 0.0000 | Val Acc: 1.000\n"
     ]
    }
   ],
   "source": [
    "n = len(train_seqs)\n",
    "m = len(val_seqs)\n",
    "\n",
    "for epoch in range(1,1001):\n",
    "    total_train_loss = train_parity_rnn(n)\n",
    "    total_val_loss, correct = validate_model(m)\n",
    "    avg_train_loss = total_train_loss / n\n",
    "    train_losses.append((avg_train_loss, epoch))\n",
    "    avg_val_loss = total_val_loss / m\n",
    "    val_losses.append((avg_val_loss, epoch))\n",
    "    val_accuracy = correct / m\n",
    "    if epoch % 10 == 0:\n",
    "        print(f\"Epoch {epoch:4d} | Train Loss: {avg_train_loss:.4f} | Val Loss: {avg_val_loss:.4f} | Val Acc: {val_accuracy:.3f}\")"
   ]
  },
  {
   "cell_type": "code",
   "execution_count": 9,
   "id": "a4532eac",
   "metadata": {},
   "outputs": [
    {
     "data": {
      "image/png": "[encoded data removed]",
      "text/plain": [
       "<Figure size 600x350 with 1 Axes>"
      ]
     },
     "metadata": {},
     "output_type": "display_data"
    }
   ],
   "source": [
    "import matplotlib.pyplot as plt\n",
    "\n",
    "train_losses_array = np.array(train_losses)\n",
    "val_losses_array = np.array(val_losses)\n",
    "\n",
    "# Extract epochs and losses\n",
    "train_epochs = train_losses_array[:, 1]\n",
    "train_values = train_losses_array[:, 0]\n",
    "\n",
    "val_epochs = val_losses_array[:, 1]\n",
    "val_values = val_losses_array[:, 0]\n",
    "\n",
    "# Create the plot\n",
    "plt.figure(figsize=(6, 3.5))\n",
    "plt.plot(train_epochs, train_values, label=\"Train Loss\")\n",
    "plt.plot(val_epochs, val_values, label=\"Val Loss\")\n",
    "\n",
    "# Axis labels and limits to mimic style\n",
    "plt.xlabel(\"Epochs\")\n",
    "plt.ylabel(\"Loss\")\n",
    "plt.xlim(0, 1000)\n",
    "plt.ylim(0, 0.55)\n",
    "\n",
    "# Optional grid and legend\n",
    "plt.legend()\n",
    "plt.tight_layout()\n",
    "plt.show()"
   ]
  },
  {
   "cell_type": "code",
   "execution_count": 11,
   "id": "769f2839",
   "metadata": {},
   "outputs": [],
   "source": [
    "checkpoint = {\n",
    "    \"epoch\": epoch,\n",
    "    \"model_state\": model.state_dict(),\n",
    "    \"optimizer_state\": optimizer.state_dict(),\n",
    "    \"train_losses\": train_losses,\n",
    "    \"val_losses\": val_losses,\n",
    "}\n",
    "torch.save(checkpoint, \"../models/checkpoints/parity_rnn_checkpoint.pt\")\n"
   ]
  }
 ],
 "metadata": {
  "kernelspec": {
   "display_name": "base",
   "language": "python",
   "name": "python3"
  },
  "language_info": {
   "codemirror_mode": {
    "name": "ipython",
    "version": 3
   },
   "file_extension": ".py",
   "mimetype": "text/x-python",
   "name": "python",
   "nbconvert_exporter": "python",
   "pygments_lexer": "ipython3",
   "version": "3.12.7"
  }
 },
 "nbformat": 4,
 "nbformat_minor": 5
}
